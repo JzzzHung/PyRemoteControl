{
 "cells": [
  {
   "cell_type": "code",
   "execution_count": 6,
   "metadata": {
    "metadata": {}
   },
   "outputs": [
    {
     "name": "stdout",
     "output_type": "stream",
     "text": [
      "FG: 3.536 Vrms, 850000 Hz                                                  \r"
     ]
    }
   ],
   "source": [
    "from Util import Util\n",
    "from Agilent33522B import Agilent33522B\n",
    "\n",
    "WaveformGenerator = Agilent33522B()\n",
    "\n",
    "d = 1\n",
    "v = 3.5356\n",
    "f = 850000\n",
    "\n",
    "##################################################################\n",
    "\n",
    "def run(raw, d, v, f):\n",
    "    if 'v' in raw:\n",
    "        # set voltage to max (input 'vv' can set voltage to max)\n",
    "        if 'vv' in raw:\n",
    "            v = 3.5356\n",
    "        # set specific voltage\n",
    "        elif raw.startswith('v'):\n",
    "            v = eval(list(filter(None, raw.split('v')))[0])\n",
    "        # increase/decrease voltage (input '0v' can refresh output text)\n",
    "        else:\n",
    "            v += eval(raw.split('v')[0])\n",
    "    # set specific freq.\n",
    "    # (When the input string contains 'f',\n",
    "    # the string without 'f' is parsed to number,\n",
    "    # and then this value is set as the output frequency.\n",
    "    # eg. f100, 100f, f1k, 1kf)\n",
    "    elif 'f' in raw:\n",
    "        f = Util.parseStrToNumber(\n",
    "                list(filter(None, raw.split('f')))[0])\n",
    "    # increase/decrease freq.\n",
    "    else:\n",
    "        d = Util.parseStrToNumber(raw) or 0\n",
    "        f += d\n",
    "\n",
    "    return (d, v, f)\n",
    "\n",
    "##################################################################\n",
    "\n",
    "try:\n",
    "\n",
    "    while d:\n",
    "        v = WaveformGenerator.autoranging('v', v)\n",
    "        f = WaveformGenerator.autoranging('f', f)\n",
    "        WaveformGenerator.applyBurst(v, f, v, f)\n",
    "        print(f'FG: {v:.3f} Vrms, {f} Hz', end=f\"{' '*50}\\r\", flush=True)\n",
    "        raw = input()\n",
    "\n",
    "        d, v, f = run(raw, d, v, f)\n",
    "\n",
    "except Exception as e:\n",
    "    print(e)\n",
    "    print('----------------')\n",
    "    WaveformGenerator.queryERROR()\n",
    "\n",
    "finally:\n",
    "    WaveformGenerator.close()\n",
    "\n",
    "\n",
    "\n",
    "\n"
   ]
  },
  {
   "cell_type": "code",
   "execution_count": 1,
   "metadata": {
    "metadata": {}
   },
   "outputs": [
    {
     "name": "stdout",
     "output_type": "stream",
     "text": [
      "[OFF] FG: 3.536 Vrms, 200kHz                                                        \n",
      "---------------DONE---------------\n"
     ]
    }
   ],
   "source": [
    "v = 3.5356\n",
    "fs = [\n",
    "    \"100k\",\n",
    "    \"200k\",\n",
    "    \"300k\",\n",
    "    \"400k\",\n",
    "    \"500k\",\n",
    "    \"600k\",\n",
    "    \"700k\",\n",
    "    \"800k\",\n",
    "    \"850k\",\n",
    "    \"900k\",\n",
    "    \"1M\"\n",
    "]\n",
    "DURATION = 1\n",
    "\n",
    "from time import sleep\n",
    "from Agilent33522B import Agilent33522B\n",
    "WaveformGenerator = Agilent33522B()\n",
    "\n",
    "\n",
    "try:\n",
    "    for f in fs:\n",
    "        WaveformGenerator.applyBurst(v, f, v, f)\n",
    "        for i in range(DURATION):\n",
    "            print(f'[ON] {i+1} sec. FG: {v:.3f} Vrms, {f}Hz', end=f\"{' '*50}\\r\", flush=True)\n",
    "            sleep(1)\n",
    "        WaveformGenerator.outputOFF()\n",
    "        print(f'[OFF] FG: {v:.3f} Vrms, {f}Hz', end=f\"{' '*50}\\r\", flush=True)\n",
    "        tmp = input() or 0\n",
    "        if tmp != 0:\n",
    "            raise\n",
    "except:\n",
    "    pass\n",
    "finally:\n",
    "    WaveformGenerator.queryERROR()\n",
    "    WaveformGenerator.close()\n",
    "    print('\\n---------------DONE---------------', flush=True)\n",
    "\n"
   ]
  },
  {
   "cell_type": "code",
   "execution_count": null,
   "metadata": {},
   "outputs": [
    {
     "name": "stdout",
     "output_type": "stream",
     "text": [
      "[OFF] FG: 2.600 Vrms, 1000000Hz                                                         \n",
      "---------------DONE---------------\n"
     ]
    }
   ],
   "source": [
    "vf = [\n",
    "    (2.05, 100000),\n",
    "    (2.05, 200000),\n",
    "    (2.05, 300000),\n",
    "    (2.10, 400000),\n",
    "    (2.15, 500000),\n",
    "    (2.20, 600000),\n",
    "    (2.25, 700000),\n",
    "    (2.35, 800000),\n",
    "    (2.40, 850000),\n",
    "    (2.55, 900000),\n",
    "    (2.60, 1000000),\n",
    "]\n",
    "DURATION = 60\n",
    "\n",
    "from time import sleep\n",
    "from Agilent33522B import Agilent33522B\n",
    "WaveformGenerator = Agilent33522B()\n",
    "\n",
    "\n",
    "try:\n",
    "    for v,f in vf:\n",
    "        WaveformGenerator.applyBurst(v, f, v, f)\n",
    "        for i in range(DURATION):\n",
    "            print(f'[ON] {i+1} sec. FG: {v:.3f} Vrms, {f}Hz', end=f\"{' '*50}\\r\", flush=True)\n",
    "            sleep(1)\n",
    "        WaveformGenerator.outputOFF()\n",
    "        print(f'[OFF] FG: {v:.3f} Vrms, {f}Hz', end=f\"{' '*50}\\r\", flush=True)\n",
    "        tmp = input() or 0\n",
    "        if tmp != 0:\n",
    "            raise\n",
    "except:\n",
    "    pass\n",
    "finally:\n",
    "    WaveformGenerator.queryERROR()\n",
    "    WaveformGenerator.close()\n",
    "    print('\\n---------------DONE---------------', flush=True)\n",
    "\n"
   ]
  },
  {
   "cell_type": "code",
   "execution_count": 10,
   "metadata": {
    "metadata": {}
   },
   "outputs": [
    {
     "name": "stdout",
     "output_type": "stream",
     "text": [
      "[OFF] FG: 2.400 Vrms, 850000Hz                                                          \n",
      "---------------DONE---------------\n"
     ]
    }
   ],
   "source": [
    "vs = [0.6, 1.2, 1.8, 2.4]\n",
    "# vs = [2.4, 1.8, 1.2, 0.6]\n",
    "f = 850000\n",
    "DURATION = 120\n",
    "\n",
    "from time import sleep\n",
    "from Agilent33522B import Agilent33522B\n",
    "WaveformGenerator = Agilent33522B()\n",
    "\n",
    "\n",
    "try:\n",
    "    for v in vs:\n",
    "        WaveformGenerator.applyBurst(v, f, v, f)\n",
    "        for i in range(DURATION):\n",
    "            print(f'[ON] {i+1} sec. FG: {v:.3f} Vrms, {f}Hz', end=f\"{' '*50}\\r\", flush=True)\n",
    "            sleep(1)\n",
    "        WaveformGenerator.outputOFF()\n",
    "        print(f'[OFF] FG: {v:.3f} Vrms, {f}Hz', end=f\"{' '*50}\\r\", flush=True)\n",
    "        tmp = input() or 0\n",
    "        if tmp != 0:\n",
    "            raise\n",
    "except:\n",
    "    pass\n",
    "finally:\n",
    "    WaveformGenerator.queryERROR()\n",
    "    WaveformGenerator.close()\n",
    "    print('\\n---------------DONE---------------', flush=True)\n",
    "\n"
   ]
  },
  {
   "cell_type": "code",
   "execution_count": null,
   "metadata": {},
   "outputs": [],
   "source": [
    "# fs = [i for i in range(1, 100001, 50000)] # 100k~1000k, step=50k\n",
    "# fs = [1, 2, 3, 4, 5, 10, 50, 100, 500, 1000, 5000, 10000, 50000, 100000]\n",
    "# fs = [10, 20, 30, 40, 50, 60, 70, 80, 90, 100, 200, 300, 400, 500, 600, 700, 800, 900, 1000, 2000, 3000, 4000, 5000, 6000, 7000, 8000, 9000, 10000, 20000, 30000, 40000, 50000, 60000, 70000, 80000, 90000, 100000, 200000, 300000, 400000, 500000, 600000, 700000, 800000, 900000, 1000000, 1500000, 2000000, 2500000, 3000000, 3500000, 4000000]\n",
    "# fs = [10, 50, 100, 500, 1000, 5000, 10000, 50000, 100000, 500000, 1000000, 2000000, 3000000, 4000000]\n",
    "# fs = [1E1, 5E1, 1E2, 5E2, 1E3, 5E3, 1E4, 5E4, 1E5, 5E5, 1E6, 2E6, 3E6, 4E6]\n",
    "# fs = [50, 100, 500, 1000, 10000, 100000, 500000, 1000000]\n",
    "# vs = [1, 2, 3, 3.5356]\n",
    "# vs = [*[i/10 for i in range(10, 36)], 3.5356]    # 1.0~3.5, step=0.1"
   ]
  },
  {
   "cell_type": "code",
   "execution_count": null,
   "metadata": {},
   "outputs": [
    {
     "name": "stdout",
     "output_type": "stream",
     "text": [
      "FG: 3.536 Vrms, 1000000 Hz                                                  \r"
     ]
    }
   ],
   "source": [
    "fs = [i for i in range(100000, 1000001, 50000)] # 100k~1000k, step=50k\n",
    "vs = [*[i/10 for i in range(1, 36)], 3.5356]\n",
    "\n",
    "from Agilent33522B import Agilent33522B\n",
    "WaveformGenerator = Agilent33522B()\n",
    "\n",
    "try:\n",
    "    for f in fs:\n",
    "        for v in vs:\n",
    "            print(f'FG: {v:.3f} Vrms, {f} Hz', end=f\"{' '*50}\\r\", flush=True)\n",
    "            WaveformGenerator.applyBurst(v, f, v, f)\n",
    "            tmp = input() or 0\n",
    "            if tmp != 0:\n",
    "                raise\n",
    "except:\n",
    "    pass\n",
    "finally:\n",
    "    WaveformGenerator.queryERROR()\n",
    "    WaveformGenerator.close()"
   ]
  }
 ],
 "metadata": {
  "kernelspec": {
   "display_name": "visa",
   "language": "python",
   "name": "python3"
  },
  "language_info": {
   "codemirror_mode": {
    "name": "ipython",
    "version": 3
   },
   "file_extension": ".py",
   "mimetype": "text/x-python",
   "name": "python",
   "nbconvert_exporter": "python",
   "pygments_lexer": "ipython3",
   "version": "3.7.16"
  }
 },
 "nbformat": 4,
 "nbformat_minor": 2
}
